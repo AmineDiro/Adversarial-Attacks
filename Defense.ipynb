{
 "cells": [
  {
   "cell_type": "markdown",
   "metadata": {},
   "source": [
    "# Defenses "
   ]
  },
  {
   "cell_type": "code",
   "execution_count": 215,
   "metadata": {},
   "outputs": [
    {
     "data": {
      "text/html": [
       "\n",
       "<style>\n",
       ".output_png {\n",
       "    display: table-cell;\n",
       "    text-align: center;\n",
       "    vertical-align: middle;\n",
       "}\n",
       "</style>\n"
      ],
      "text/plain": [
       "<IPython.core.display.HTML object>"
      ]
     },
     "execution_count": 215,
     "metadata": {},
     "output_type": "execute_result"
    }
   ],
   "source": [
    "from IPython.core.display import HTML\n",
    "HTML(\"\"\"\n",
    "<style>\n",
    ".output_png {\n",
    "    display: table-cell;\n",
    "    text-align: center;\n",
    "    vertical-align: middle;\n",
    "}\n",
    "</style>\n",
    "\"\"\")"
   ]
  },
  {
   "cell_type": "code",
   "execution_count": 218,
   "metadata": {},
   "outputs": [
    {
     "name": "stdout",
     "output_type": "stream",
     "text": [
      "The autoreload extension is already loaded. To reload it, use:\n",
      "  %reload_ext autoreload\n"
     ]
    }
   ],
   "source": [
    "import numpy as np\n",
    "import matplotlib.pyplot as plt\n",
    "from tqdm.auto import tqdm \n",
    "\n",
    "import torch\n",
    "import torch.nn as nn\n",
    "import torch.nn.functional as F\n",
    "import torch.optim as optim\n",
    "from torchvision import datasets, transforms\n",
    "\n",
    "from Net import Net , NetF1\n",
    "from Attacks.LBFGS import LBFGSAttack\n",
    "from Attacks.FGSM import FGSMAttack\n",
    "from Attacks.VanillaGradient import VanillaGradientAttack\n",
    "\n",
    "from defense import fit_distilled, test_vanilla_binary_mnist , test_fgsm_mnist_binary, adversarial_fit_normal, fit\n",
    "from attack import test_fgsm_mnist, test_fgsm_mnist_distilled, test_vanilla_mnist\n",
    "from utils import * \n",
    "\n",
    "%load_ext autoreload\n",
    "%autoreload 2\n",
    "%reload_ext autoreload"
   ]
  },
  {
   "cell_type": "code",
   "execution_count": 214,
   "metadata": {},
   "outputs": [],
   "source": [
    "mnist_trainset = datasets.MNIST('./data_mnist', \n",
    "                   train=True,\n",
    "                   download=False, \n",
    "                   transform=transforms.Compose([transforms.ToTensor()]))\n",
    "\n",
    "mnist_testset = datasets.MNIST('./data_mnist', \n",
    "                   train=False,\n",
    "                   download=False, \n",
    "                   transform=transforms.Compose([transforms.ToTensor()]))\n",
    "\n",
    "test_loader = torch.utils.data.DataLoader(mnist_testset, batch_size=32,shuffle=True)\n",
    "train_loader = torch.utils.data.DataLoader(mnist_trainset, batch_size=32,shuffle=True)\n"
   ]
  },
  {
   "cell_type": "code",
   "execution_count": 22,
   "metadata": {},
   "outputs": [
    {
     "name": "stdout",
     "output_type": "stream",
     "text": [
      "CUDA Available:  True\n"
     ]
    },
    {
     "data": {
      "text/plain": [
       "Net(\n",
       "  (conv1): Conv2d(1, 10, kernel_size=(5, 5), stride=(1, 1))\n",
       "  (conv2): Conv2d(10, 20, kernel_size=(5, 5), stride=(1, 1))\n",
       "  (conv2_drop): Dropout2d(p=0.5, inplace=False)\n",
       "  (fc1): Linear(in_features=320, out_features=50, bias=True)\n",
       "  (fc2): Linear(in_features=50, out_features=10, bias=True)\n",
       ")"
      ]
     },
     "execution_count": 22,
     "metadata": {},
     "output_type": "execute_result"
    }
   ],
   "source": [
    "# Init device \n",
    "print(\"CUDA Available: \",torch.cuda.is_available())\n",
    "device = torch.device(\"cuda\" if (use_cuda and torch.cuda.is_available()) else \"cpu\")\n",
    "\n",
    "# Init the network\n",
    "model = Net().to(device)\n",
    "\n",
    "# Load pretrained model\n",
    "model.load_state_dict(torch.load(pretrained_model, map_location='cpu'))\n",
    "\n",
    "# Set the model in evaluation mode. In this case this is for the Dropout layers\n",
    "model.eval()"
   ]
  },
  {
   "cell_type": "code",
   "execution_count": 240,
   "metadata": {},
   "outputs": [],
   "source": [
    "############ Training base model ############\n",
    "\n",
    "#base_model = Net().to(device)\n",
    "#optimizer = optim.Adam(base_model.parameters(),lr=0.0001, betas=(0.9, 0.999))\n",
    "#criterion = F.cross_entropy\n",
    "#\n",
    "#loss = fit(base_model, \n",
    "#           device, \n",
    "#           criterion,\n",
    "#           optimizer, \n",
    "#           train_loader,\n",
    "#           test_loader,\n",
    "#           epochs=10)"
   ]
  },
  {
   "cell_type": "markdown",
   "metadata": {},
   "source": [
    "# Training a base model"
   ]
  },
  {
   "cell_type": "code",
   "execution_count": 232,
   "metadata": {},
   "outputs": [
    {
     "data": {
      "application/vnd.jupyter.widget-view+json": {
       "model_id": "8946ce76e97c468dbe2219ab26e7d7a5",
       "version_major": 2,
       "version_minor": 0
      },
      "text/plain": [
       "Accuracy for testset:   0%|          | 0/313 [00:00<?, ?it/s]"
      ]
     },
     "metadata": {},
     "output_type": "display_data"
    },
    {
     "name": "stdout",
     "output_type": "stream",
     "text": [
      "Base model accuracy :  0.9745\n"
     ]
    }
   ],
   "source": [
    "pretrained_base_model = \"weights/base_training.pt\"\n",
    "# Init the network\n",
    "base_model = Net().to(device)\n",
    "\n",
    "# Load pretrained model\n",
    "base_model.load_state_dict(torch.load(pretrained_base_model, map_location='cpu'))\n",
    "\n",
    "# Set the model in evaluation mode. In this case this is for the Dropout layers\n",
    "base_model.eval()\n",
    "acc = validation(base_model,test_loader,device)\n",
    "\n",
    "print('Base model accuracy : ', acc)"
   ]
  },
  {
   "cell_type": "markdown",
   "metadata": {},
   "source": [
    "# Defense 1 : Binary threshold\n",
    "\n",
    "The main idea is to get rid of the noise in the image before infering the class. This would take care of the adversarial exemple by denoising the added change to the input."
   ]
  },
  {
   "cell_type": "markdown",
   "metadata": {},
   "source": [
    "### Binary defense against Vanilla Attack"
   ]
  },
  {
   "cell_type": "code",
   "execution_count": 42,
   "metadata": {},
   "outputs": [
    {
     "data": {
      "application/vnd.jupyter.widget-view+json": {
       "model_id": "1d3fec8e13e14417aab9ad2762fb1fa6",
       "version_major": 2,
       "version_minor": 0
      },
      "text/plain": [
       "Lambda = 0.01:   0%|          | 0/313 [00:00<?, ?it/s]"
      ]
     },
     "metadata": {},
     "output_type": "display_data"
    },
    {
     "name": "stdout",
     "output_type": "stream",
     "text": [
      "Binary defense, Lambda 0.01 Accuracy: 0.1775 \n"
     ]
    },
    {
     "data": {
      "application/vnd.jupyter.widget-view+json": {
       "model_id": "ef2d2a5a914241199ed6fcdaf39eafaa",
       "version_major": 2,
       "version_minor": 0
      },
      "text/plain": [
       "Lambda = 0.1:   0%|          | 0/313 [00:00<?, ?it/s]"
      ]
     },
     "metadata": {},
     "output_type": "display_data"
    },
    {
     "name": "stdout",
     "output_type": "stream",
     "text": [
      "Binary defense, Lambda 0.1 Accuracy: 0.9773 \n"
     ]
    },
    {
     "data": {
      "application/vnd.jupyter.widget-view+json": {
       "model_id": "9f2e286e3ed74beaa42e6a3b70ff84ca",
       "version_major": 2,
       "version_minor": 0
      },
      "text/plain": [
       "Lambda = 0.5:   0%|          | 0/313 [00:00<?, ?it/s]"
      ]
     },
     "metadata": {},
     "output_type": "display_data"
    },
    {
     "name": "stdout",
     "output_type": "stream",
     "text": [
      "Binary defense, Lambda 0.5 Accuracy: 0.9778 \n"
     ]
    },
    {
     "data": {
      "application/vnd.jupyter.widget-view+json": {
       "model_id": "32b0b9549a394a36ac597e6997e3d3ec",
       "version_major": 2,
       "version_minor": 0
      },
      "text/plain": [
       "Lambda = 1:   0%|          | 0/313 [00:00<?, ?it/s]"
      ]
     },
     "metadata": {},
     "output_type": "display_data"
    },
    {
     "name": "stdout",
     "output_type": "stream",
     "text": [
      "Binary defense, Lambda 1 Accuracy: 0.978 \n"
     ]
    }
   ],
   "source": [
    "accuracies_vanilla_binary = []\n",
    "examples_vanilla_binary = []\n",
    "lmds =[0.01,0.1, 0.5,1]\n",
    "\n",
    "# Run test for each lambda\n",
    "for lmd in lmds:\n",
    "    acc, ex = test_vanilla_binary_mnist(model, device, test_loader, lmd)\n",
    "    accuracies_vanilla_binary.append(acc)\n",
    "    examples_vanilla_binary.append(ex)"
   ]
  },
  {
   "cell_type": "code",
   "execution_count": 46,
   "metadata": {},
   "outputs": [
    {
     "data": {
      "image/png": "[encoded data removed]",
      "text/plain": [
       "<Figure size 360x360 with 1 Axes>"
      ]
     },
     "metadata": {
      "needs_background": "light"
     },
     "output_type": "display_data"
    }
   ],
   "source": [
    "fig, ax = plt.subplots(figsize=(5,5))\n",
    "ax.plot(lmds, accuracies_vanilla_binary, \"*-\")\n",
    "plt.title(\"Model Accuracy for different lambda values with binary threashold\")\n",
    "plt.xlabel(\"Lambdas\")\n",
    "plt.ylabel(\"Accuracy\")\n",
    "plt.savefig('Results/Testing Vanilla mnist binary.png')\n",
    "plt.show()"
   ]
  },
  {
   "cell_type": "code",
   "execution_count": 58,
   "metadata": {},
   "outputs": [
    {
     "data": {
      "image/png": "[encoded data removed]",
      "text/plain": [
       "<Figure size 1440x864 with 40 Axes>"
      ]
     },
     "metadata": {
      "needs_background": "light"
     },
     "output_type": "display_data"
    }
   ],
   "source": [
    "fig , axs = plt.subplots(nrows=len(lmds), ncols=len(examples_vanilla_binary[0])*2,figsize=(20,12))\n",
    "\n",
    "for i , lmd in enumerate(lmds):\n",
    "    for j in range(0,len(examples_vanilla_binary[0])):\n",
    "        original, adversary, init_pred , final_pred = examples_vanilla_binary[i][j]\n",
    "        axs[i, 2*j].imshow(original[0],cmap='Greys')\n",
    "        axs[i,0].set_ylabel(\"lambda : {}\".format(lmd), fontsize=14)\n",
    "        axs[i, 2*j].set_title('Initial  : {}'.format(init_pred[0].item()))\n",
    "        axs[i, 2*j+1].imshow(adversary[0],cmap='Greys')\n",
    "        axs[i, 2*j+1].set_title('Adversary : {}'.format(final_pred[0].item()))\n",
    "plt.savefig('Results/Exemples LBFGS mnist binary.png')\n",
    "plt.show()"
   ]
  },
  {
   "cell_type": "markdown",
   "metadata": {},
   "source": [
    "### Binary defense against FGSM"
   ]
  },
  {
   "cell_type": "code",
   "execution_count": 69,
   "metadata": {},
   "outputs": [
    {
     "data": {
      "application/vnd.jupyter.widget-view+json": {
       "model_id": "83d250c7a52a4f87af4abcf82aba3c3a",
       "version_major": 2,
       "version_minor": 0
      },
      "text/plain": [
       "Iteration for epsilon = 0.1:   0%|          | 0/10000 [00:00<?, ?it/s]"
      ]
     },
     "metadata": {},
     "output_type": "display_data"
    },
    {
     "name": "stdout",
     "output_type": "stream",
     "text": [
      "Binary defense, Epsilon 0.1 Accuracy: 0.956 \n"
     ]
    },
    {
     "data": {
      "application/vnd.jupyter.widget-view+json": {
       "model_id": "d9d7e6d1673348dd9a917ec851a31a19",
       "version_major": 2,
       "version_minor": 0
      },
      "text/plain": [
       "Iteration for epsilon = 0.3:   0%|          | 0/10000 [00:00<?, ?it/s]"
      ]
     },
     "metadata": {},
     "output_type": "display_data"
    },
    {
     "name": "stdout",
     "output_type": "stream",
     "text": [
      "Binary defense, Epsilon 0.3 Accuracy: 0.8549 \n"
     ]
    },
    {
     "data": {
      "application/vnd.jupyter.widget-view+json": {
       "model_id": "7492eeb9c6da4d2d82852399e51d0af3",
       "version_major": 2,
       "version_minor": 0
      },
      "text/plain": [
       "Iteration for epsilon = 0.5:   0%|          | 0/10000 [00:00<?, ?it/s]"
      ]
     },
     "metadata": {},
     "output_type": "display_data"
    },
    {
     "name": "stdout",
     "output_type": "stream",
     "text": [
      "Binary defense, Epsilon 0.5 Accuracy: 0.0985 \n"
     ]
    },
    {
     "data": {
      "application/vnd.jupyter.widget-view+json": {
       "model_id": "c693e1dda9854b4e8fb62ae68b91fbc5",
       "version_major": 2,
       "version_minor": 0
      },
      "text/plain": [
       "Iteration for epsilon = 0.7:   0%|          | 0/10000 [00:00<?, ?it/s]"
      ]
     },
     "metadata": {},
     "output_type": "display_data"
    },
    {
     "name": "stdout",
     "output_type": "stream",
     "text": [
      "Binary defense, Epsilon 0.7 Accuracy: 0.0239 \n"
     ]
    }
   ],
   "source": [
    "#%timeit \n",
    "accuracies_FGSM_binary = []\n",
    "examples_FGSM_binary = []\n",
    "epsilons =[0.1,0.3,0.5,0.7]\n",
    "\n",
    "# Run test for each epsilon\n",
    "for eps in epsilons:\n",
    "    acc, ex = test_fgsm_mnist_binary(model, device, test_loader, eps)\n",
    "    accuracies_FGSM_binary.append(acc)\n",
    "    examples_FGSM_binary.append(ex)"
   ]
  },
  {
   "cell_type": "code",
   "execution_count": 71,
   "metadata": {},
   "outputs": [
    {
     "data": {
      "image/png": "[encoded data removed]",
      "text/plain": [
       "<Figure size 360x360 with 1 Axes>"
      ]
     },
     "metadata": {
      "needs_background": "light"
     },
     "output_type": "display_data"
    }
   ],
   "source": [
    "fig, ax = plt.subplots(figsize=(5,5))\n",
    "\n",
    "ax.plot(epsilons, accuracies_FGSM_binary, \"*-\")\n",
    "plt.title(\"Model Accuracy for different epsilon values\")\n",
    "plt.xlabel(\"Epsilon\")\n",
    "plt.ylabel(\"Accuracy\")\n",
    "plt.savefig('Results/Testing FGSM mnist binary.png')\n",
    "plt.show()"
   ]
  },
  {
   "cell_type": "markdown",
   "metadata": {},
   "source": [
    "--- "
   ]
  },
  {
   "cell_type": "markdown",
   "metadata": {},
   "source": [
    "# Defense 2 : Adversarial Training"
   ]
  },
  {
   "cell_type": "markdown",
   "metadata": {},
   "source": [
    "This defense was proposed in Goodfellow et al., and is among the most popular ones. \n",
    "The idea is to add adversarial examples during the  training phase and\n",
    "train the model either on adversarial examples or on mix of clean and adversarial\n",
    "examples. \n",
    "\n",
    "The approach was successfully applied to large datasets and can be\n",
    "made more effective by using discrete vector code representations rather than real\n",
    "number representations of the input.\n"
   ]
  },
  {
   "cell_type": "markdown",
   "metadata": {},
   "source": [
    "## Base model"
   ]
  },
  {
   "cell_type": "markdown",
   "metadata": {},
   "source": [
    "We will start by training the base model to get an accurate mesure of the accuracy drop with FGSM attack. "
   ]
  },
  {
   "cell_type": "code",
   "execution_count": 234,
   "metadata": {},
   "outputs": [
    {
     "data": {
      "application/vnd.jupyter.widget-view+json": {
       "model_id": "c9340a4cf3f6464c88345a31201d0551",
       "version_major": 2,
       "version_minor": 0
      },
      "text/plain": [
       "Iteration for epsilon = 0.1:   0%|          | 0/313 [00:00<?, ?it/s]"
      ]
     },
     "metadata": {},
     "output_type": "display_data"
    },
    {
     "name": "stdout",
     "output_type": "stream",
     "text": [
      "Epsilon 0.1 Accuracy: 0.7551 \n"
     ]
    },
    {
     "data": {
      "application/vnd.jupyter.widget-view+json": {
       "model_id": "3d84ca104eb04827b98100a367873518",
       "version_major": 2,
       "version_minor": 0
      },
      "text/plain": [
       "Iteration for epsilon = 0.3:   0%|          | 0/313 [00:00<?, ?it/s]"
      ]
     },
     "metadata": {},
     "output_type": "display_data"
    },
    {
     "name": "stdout",
     "output_type": "stream",
     "text": [
      "Epsilon 0.3 Accuracy: 0.0205 \n"
     ]
    },
    {
     "data": {
      "application/vnd.jupyter.widget-view+json": {
       "model_id": "2ff89b771c3f4e5a8572e712808f7d07",
       "version_major": 2,
       "version_minor": 0
      },
      "text/plain": [
       "Iteration for epsilon = 0.5:   0%|          | 0/313 [00:00<?, ?it/s]"
      ]
     },
     "metadata": {},
     "output_type": "display_data"
    },
    {
     "name": "stdout",
     "output_type": "stream",
     "text": [
      "Epsilon 0.5 Accuracy: 0.0016 \n"
     ]
    },
    {
     "data": {
      "application/vnd.jupyter.widget-view+json": {
       "model_id": "cc83f016cc6a4fb095126d2a065a2c80",
       "version_major": 2,
       "version_minor": 0
      },
      "text/plain": [
       "Iteration for epsilon = 0.7:   0%|          | 0/313 [00:00<?, ?it/s]"
      ]
     },
     "metadata": {},
     "output_type": "display_data"
    },
    {
     "name": "stdout",
     "output_type": "stream",
     "text": [
      "Epsilon 0.7 Accuracy: 0.002 \n"
     ]
    }
   ],
   "source": [
    "accuracies_FGSM = []\n",
    "examples_FGSM = []\n",
    "proba_FGSM = []\n",
    "\n",
    "epsilons =[0.1,0.3,0.5,0.7]\n",
    "model.eval()\n",
    "# Run test for each epsilon\n",
    "for eps in epsilons:\n",
    "    acc, ex, proba_adv = test_fgsm_mnist(base_model, \n",
    "                                         device, \n",
    "                                         test_loader, \n",
    "                                         eps)\n",
    "    accuracies_FGSM.append(acc)\n",
    "    examples_FGSM.append(ex)\n",
    "    proba_FGSM.append(proba_adv)"
   ]
  },
  {
   "cell_type": "markdown",
   "metadata": {},
   "source": [
    "We see a very big drop in accuracy after attacking the trained model once epsilon 0.3 ."
   ]
  },
  {
   "cell_type": "code",
   "execution_count": 236,
   "metadata": {},
   "outputs": [
    {
     "data": {
      "image/png": "[encoded data removed]",
      "text/plain": [
       "<Figure size 864x576 with 2 Axes>"
      ]
     },
     "metadata": {
      "needs_background": "light"
     },
     "output_type": "display_data"
    }
   ],
   "source": [
    "fig, ax = plt.subplots(1,2,figsize=(12,8))\n",
    "for i, _ in enumerate(epsilons):\n",
    "    ax[0].hist(proba_FGSM[i],histtype='step', stacked=True, fill=False,label=_)\n",
    "ax[0].legend()\n",
    "#ax[0].plot(epsilons, proba_FGSM, \"*-\")\n",
    "ax[0].set_title(\" Adversarial exemples mean probability\")\n",
    "ax[0].set_xlabel(\"Epsilon\")\n",
    "ax[0].set_ylabel(\"Mean proba\")\n",
    "\n",
    "\n",
    "ax[1].plot(epsilons, accuracies_FGSM, \"*-\")\n",
    "ax[1].set_title(\"Model Accuracy for different epsilon values\")\n",
    "ax[1].set_xlabel(\"Epsilon\")\n",
    "ax[1].set_ylabel(\"Accuracy\")\n",
    "\n",
    "\n",
    "plt.savefig('Results/FGSM_base_mnist.png')\n",
    "plt.show()"
   ]
  },
  {
   "cell_type": "markdown",
   "metadata": {},
   "source": [
    "## Adversarial training"
   ]
  },
  {
   "cell_type": "code",
   "execution_count": 112,
   "metadata": {},
   "outputs": [],
   "source": [
    "#model = Net().to(device)\n",
    "#optimizer = optim.Adam(model.parameters(),lr=0.0001, betas=(0.9, 0.999))\n",
    "#model.train()\n",
    "\n",
    "# Adversarial training function\n",
    "# loss = adversarial_fit_normal(model, \n",
    "#                       device, \n",
    "#                       optimizer, \n",
    "#                       train_loader, \n",
    "#                       epochs=30)"
   ]
  },
  {
   "cell_type": "markdown",
   "metadata": {},
   "source": [
    "We load the pretrained model. This model was trained on adversarial examples. This method of training is possible because the cost of generating them using FGSM attack is very low. We trained the model with an adversarial objective function based on the fast gradient sign method was an effective regularizer :\n",
    "\n",
    "$$J(\\theta,x,y) = \\alpha J(\\theta,x,y)  +(1-\\alpha)J(\\theta,x+ \\epsilon*sign(\\nabla_{x}J(\\theta,x,y) ,y) $$ "
   ]
  },
  {
   "cell_type": "code",
   "execution_count": 207,
   "metadata": {},
   "outputs": [
    {
     "data": {
      "text/plain": [
       "Net(\n",
       "  (conv1): Conv2d(1, 10, kernel_size=(5, 5), stride=(1, 1))\n",
       "  (conv2): Conv2d(10, 20, kernel_size=(5, 5), stride=(1, 1))\n",
       "  (conv2_drop): Dropout2d(p=0.5, inplace=False)\n",
       "  (fc1): Linear(in_features=320, out_features=50, bias=True)\n",
       "  (fc2): Linear(in_features=50, out_features=10, bias=True)\n",
       ")"
      ]
     },
     "execution_count": 207,
     "metadata": {},
     "output_type": "execute_result"
    }
   ],
   "source": [
    "# Loading pretrained with adversarial training Net\n",
    "pretrained_model = \"weights/adv_training.pt\"\n",
    "model = Net().to(device)\n",
    "\n",
    "#Load pretrained model\n",
    "model.load_state_dict(torch.load(pretrained_model, map_location='cpu'))\n",
    "\n",
    "# Set the model in evaluation mode. In this case this is for the Dropout layers\n",
    "model.eval()"
   ]
  },
  {
   "cell_type": "code",
   "execution_count": 209,
   "metadata": {},
   "outputs": [
    {
     "data": {
      "application/vnd.jupyter.widget-view+json": {
       "model_id": "8016c5f2e6b0486ba2e61c1dff7a8c30",
       "version_major": 2,
       "version_minor": 0
      },
      "text/plain": [
       "Iteration for epsilon = 0.1:   0%|          | 0/313 [00:00<?, ?it/s]"
      ]
     },
     "metadata": {},
     "output_type": "display_data"
    },
    {
     "name": "stdout",
     "output_type": "stream",
     "text": [
      "Epsilon 0.1 Accuracy: 0.9336 \n"
     ]
    },
    {
     "data": {
      "application/vnd.jupyter.widget-view+json": {
       "model_id": "b57e06f5443c4c07b307fc9add0ee483",
       "version_major": 2,
       "version_minor": 0
      },
      "text/plain": [
       "Iteration for epsilon = 0.3:   0%|          | 0/313 [00:00<?, ?it/s]"
      ]
     },
     "metadata": {},
     "output_type": "display_data"
    },
    {
     "name": "stdout",
     "output_type": "stream",
     "text": [
      "Epsilon 0.3 Accuracy: 0.7099 \n"
     ]
    },
    {
     "data": {
      "application/vnd.jupyter.widget-view+json": {
       "model_id": "c8e04afff7c84b6fb96c3441a215f7dd",
       "version_major": 2,
       "version_minor": 0
      },
      "text/plain": [
       "Iteration for epsilon = 0.5:   0%|          | 0/313 [00:00<?, ?it/s]"
      ]
     },
     "metadata": {},
     "output_type": "display_data"
    },
    {
     "name": "stdout",
     "output_type": "stream",
     "text": [
      "Epsilon 0.5 Accuracy: 0.1979 \n"
     ]
    },
    {
     "data": {
      "application/vnd.jupyter.widget-view+json": {
       "model_id": "9b73840ac34a41bdaa293e6eb49a9040",
       "version_major": 2,
       "version_minor": 0
      },
      "text/plain": [
       "Iteration for epsilon = 0.7:   0%|          | 0/313 [00:00<?, ?it/s]"
      ]
     },
     "metadata": {},
     "output_type": "display_data"
    },
    {
     "name": "stdout",
     "output_type": "stream",
     "text": [
      "Epsilon 0.7 Accuracy: 0.0427 \n"
     ]
    }
   ],
   "source": [
    "accuracies_FGSM_trained = []\n",
    "examples_FGSM_trained = []\n",
    "proba_FGSM_trained = []\n",
    "\n",
    "epsilons =[0.1,0.3,0.5,0.7]\n",
    "model.eval()\n",
    "# Run test for each epsilon\n",
    "for eps in epsilons:\n",
    "    acc, ex, proba_adv = test_fgsm_mnist(model, \n",
    "                                         device, \n",
    "                                         test_loader, \n",
    "                                         eps)\n",
    "    accuracies_FGSM_trained.append(acc)\n",
    "    examples_FGSM_trained.append(ex)\n",
    "    proba_FGSM_trained.append(proba_adv)"
   ]
  },
  {
   "cell_type": "code",
   "execution_count": 239,
   "metadata": {},
   "outputs": [
    {
     "data": {
      "image/png": "[encoded data removed]",
      "text/plain": [
       "<Figure size 864x576 with 2 Axes>"
      ]
     },
     "metadata": {
      "needs_background": "light"
     },
     "output_type": "display_data"
    }
   ],
   "source": [
    "fig, ax = plt.subplots(1,2,figsize=(12,8))\n",
    "for i, _ in enumerate(epsilons):\n",
    "    ax[0].hist(proba_FGSM_trained[i],histtype='step', stacked=True, fill=False,label=_)\n",
    "ax[0].legend()\n",
    "#ax[0].plot(epsilons, proba_FGSM, \"*-\")\n",
    "ax[0].set_title(\" Adversarial exemples mean probability\")\n",
    "ax[0].set_xlabel(\"Epsilon\")\n",
    "ax[0].set_ylabel(\"Mean proba\")\n",
    "\n",
    "\n",
    "ax[1].plot(epsilons, accuracies_FGSM_trained, \"*-\",label='Adv trained Model Accuracy')\n",
    "ax[1].set_title(\"Model Accuracy for different epsilon values\")\n",
    "ax[1].plot(epsilons, accuracies_FGSM, \"*-\",label='Base Model Accuracy')\n",
    "\n",
    "ax[1].set_xlabel(\"Epsilon\")\n",
    "ax[1].set_ylabel(\"Accuracy\")\n",
    "ax[1].legend()\n",
    "\n",
    "plt.savefig('Results/Testing FGSM defense mnist.png')\n",
    "plt.show()"
   ]
  },
  {
   "cell_type": "markdown",
   "metadata": {},
   "source": [
    "We clearly see that the model has become somewhat resistant to adversarial examples. The same model had an accuracy of 7% when being attacked with FGSM. The accuracy is now 70%. We also see that the trained model is not robust enough against higher perturbation but does assing a class with lower confidence. "
   ]
  },
  {
   "cell_type": "markdown",
   "metadata": {},
   "source": [
    "---- \n",
    "# Defense 3 : Distilled Neural Network\n",
    "\n",
    "First strategy(distilled model):  see  Papernot, N., McDaniel, P., Wu, X., Jha, S., and Swami, A. Distillation as a defense to adversarial perturbations against deep neural networks. arXiv preprint arXiv:1511.04508, 2016b.\n",
    "  1. Train a network F on the given training set (X,Y) by setting the temperature of the softmax to T.\n",
    "  2. Compute the scores (after softmax) given by F(X) again and evaluate the scores at temperature T.\n",
    "  3. Train another network F'_T using softmax at temperature T on the dataset with soft labels (X,F(X)). We refer the model F'_T as the distilled model.\n",
    "Use the distilled network F'_T with softmax at temperature 1, which is denoted as F'1 during prediction on test data Xtest(or adversarial examples).\n",
    "Taken Temperature as 100 for training the NetF and NetF'"
   ]
  },
  {
   "cell_type": "markdown",
   "metadata": {},
   "source": [
    "The rough idea is that existing fast methods for finding adversarial examples (§II.B) rely on looking at the gradient and either adjusting all pixels by a small amount (Goodfellow 2015) or adjusting a small number of salient pixels a large amount (Papernot 2015a). This is most effective when the gradient is large. There are theoretical reasons to expect that distilling a network (more on what this is in a minute) will tend to reduce gradients, encouraging the output to be nearly flat close to training examples. The authors tested this against MNIST and CIFAR10 classifiers, showing strong reductions in the susceptibility to adversarial examples (from 95.89% to 0.45% and 87.89% to 5.11%, respectively), very little loss in accuracy, and increased robustness.\n",
    "What’s this distillation thing? Originally intended to compress models to run on cheaper hardware, distillation (§II.C) involves a typically smaller network learning another network’s output function. But instead of predicting hard class labels (0 or 1), the distillation network instead predicts the class probabilities generated by the first network. The full probability distribution contains more information than a single label, so intuitively we should be able to take advantage of this. The authors give this example from MNIST: a training example that has high probability for both the 1 and 7 labels “indicates that 7s and 1s look similar and intuitively allows a model to learn the structural similarity between the two digits.” (Emphasis in original.) In this paper rather than compressing the distillation into a smaller network, they train a distillation network of the same size as the original.\n",
    "There’s a further detail to distillation, which is that — during training — the softmax layer includes a temperature parameter T:\n",
    "\n",
    "Here the z are the activations of the last layer before the softmax. T = 1 is equivalent to standard softmax. Increasing T has the effect of pushing the resulting probability distribution closer to uniform. At test time the temperature is set back to 1. There’s an argument in §IV.B that higher temperatures also tend to flatten out the Jacobian, which is the real motivation behind this approach. The authors used T = 20.\n",
    "There are two other main lines of discussion in the paper. One is on a robustness metric (§III.A) for neural nets building on Fawzi 2015, defining the metric as the expected minimum distance to an adversarial example (the expectation is over points drawn from the distribution being modeled). Defensive distillation improved robustness by 7.9x and 5.6x for the networks tested, according to this metric.m"
   ]
  },
  {
   "cell_type": "markdown",
   "metadata": {},
   "source": [
    "### Load teacher model"
   ]
  },
  {
   "cell_type": "code",
   "execution_count": 113,
   "metadata": {},
   "outputs": [],
   "source": [
    "pretrained_teacher = \"weights/teacher_model_weights_T_100\""
   ]
  },
  {
   "cell_type": "code",
   "execution_count": 114,
   "metadata": {},
   "outputs": [
    {
     "data": {
      "text/plain": [
       "Net(\n",
       "  (conv1): Conv2d(1, 10, kernel_size=(5, 5), stride=(1, 1))\n",
       "  (conv2): Conv2d(10, 20, kernel_size=(5, 5), stride=(1, 1))\n",
       "  (conv2_drop): Dropout2d(p=0.5, inplace=False)\n",
       "  (fc1): Linear(in_features=320, out_features=50, bias=True)\n",
       "  (fc2): Linear(in_features=50, out_features=10, bias=True)\n",
       ")"
      ]
     },
     "execution_count": 114,
     "metadata": {},
     "output_type": "execute_result"
    }
   ],
   "source": [
    "# Init teacher Network\n",
    "teacher_model = Net().to(device)\n",
    "\n",
    "# Load pretrained model\n",
    "teacher_model.load_state_dict(torch.load(pretrained_teacher, map_location='cpu'))\n",
    "\n",
    "# Set the model in evaluation mode. In this case this is for the Dropout layers\n",
    "teacher_model.eval() # 92% acc on val set"
   ]
  },
  {
   "cell_type": "markdown",
   "metadata": {},
   "source": [
    "### Distilled NN  data"
   ]
  },
  {
   "cell_type": "code",
   "execution_count": 132,
   "metadata": {
    "scrolled": true
   },
   "outputs": [
    {
     "name": "stdout",
     "output_type": "stream",
     "text": [
      "Fitting the distilled model ...\n"
     ]
    },
    {
     "data": {
      "application/vnd.jupyter.widget-view+json": {
       "model_id": "ec2a9234eb0543419c4ffeafac000d60",
       "version_major": 2,
       "version_minor": 0
      },
      "text/plain": [
       "  0%|          | 0/1875 [00:00<?, ?it/s]"
      ]
     },
     "metadata": {},
     "output_type": "display_data"
    },
    {
     "name": "stdout",
     "output_type": "stream",
     "text": [
      "Epoch: 1 Loss: 1.177919700495402 \n"
     ]
    },
    {
     "data": {
      "application/vnd.jupyter.widget-view+json": {
       "model_id": "eabd97ef0bd04f9d9951c3ac68376eda",
       "version_major": 2,
       "version_minor": 0
      },
      "text/plain": [
       "Accuracy for testset:   0%|          | 0/313 [00:00<?, ?it/s]"
      ]
     },
     "metadata": {},
     "output_type": "display_data"
    },
    {
     "name": "stdout",
     "output_type": "stream",
     "text": [
      "Epoch: 1 Val accuracy: 0.8484 \n"
     ]
    },
    {
     "data": {
      "application/vnd.jupyter.widget-view+json": {
       "model_id": "84b48d6dc0c94dffba01373920022cd6",
       "version_major": 2,
       "version_minor": 0
      },
      "text/plain": [
       "  0%|          | 0/1875 [00:00<?, ?it/s]"
      ]
     },
     "metadata": {},
     "output_type": "display_data"
    },
    {
     "name": "stdout",
     "output_type": "stream",
     "text": [
      "Epoch: 2 Loss: 0.4807998865922292 \n"
     ]
    },
    {
     "data": {
      "application/vnd.jupyter.widget-view+json": {
       "model_id": "90b386169df54073a210572f3452d304",
       "version_major": 2,
       "version_minor": 0
      },
      "text/plain": [
       "Accuracy for testset:   0%|          | 0/313 [00:00<?, ?it/s]"
      ]
     },
     "metadata": {},
     "output_type": "display_data"
    },
    {
     "name": "stdout",
     "output_type": "stream",
     "text": [
      "Epoch: 2 Val accuracy: 0.8823 \n"
     ]
    },
    {
     "data": {
      "application/vnd.jupyter.widget-view+json": {
       "model_id": "4594cac5bd15414c83768fb350da33f7",
       "version_major": 2,
       "version_minor": 0
      },
      "text/plain": [
       "  0%|          | 0/1875 [00:00<?, ?it/s]"
      ]
     },
     "metadata": {},
     "output_type": "display_data"
    },
    {
     "name": "stdout",
     "output_type": "stream",
     "text": [
      "Epoch: 3 Loss: 0.46536492331822715 \n"
     ]
    },
    {
     "data": {
      "application/vnd.jupyter.widget-view+json": {
       "model_id": "b89a3f5caffb4672a2141f426bdd2ca9",
       "version_major": 2,
       "version_minor": 0
      },
      "text/plain": [
       "Accuracy for testset:   0%|          | 0/313 [00:00<?, ?it/s]"
      ]
     },
     "metadata": {},
     "output_type": "display_data"
    },
    {
     "name": "stdout",
     "output_type": "stream",
     "text": [
      "Epoch: 3 Val accuracy: 0.886 \n"
     ]
    },
    {
     "data": {
      "application/vnd.jupyter.widget-view+json": {
       "model_id": "7f26d875f2da4f6887590927bd920e4e",
       "version_major": 2,
       "version_minor": 0
      },
      "text/plain": [
       "  0%|          | 0/1875 [00:00<?, ?it/s]"
      ]
     },
     "metadata": {},
     "output_type": "display_data"
    },
    {
     "name": "stdout",
     "output_type": "stream",
     "text": [
      "Epoch: 4 Loss: 0.4626805235862732 \n"
     ]
    },
    {
     "data": {
      "application/vnd.jupyter.widget-view+json": {
       "model_id": "6c5931aaa7e741978b3089b05f714e76",
       "version_major": 2,
       "version_minor": 0
      },
      "text/plain": [
       "Accuracy for testset:   0%|          | 0/313 [00:00<?, ?it/s]"
      ]
     },
     "metadata": {},
     "output_type": "display_data"
    },
    {
     "name": "stdout",
     "output_type": "stream",
     "text": [
      "Epoch: 4 Val accuracy: 0.8863 \n"
     ]
    },
    {
     "data": {
      "application/vnd.jupyter.widget-view+json": {
       "model_id": "59a9b5a0ba1443b88efd62ac8f78ee07",
       "version_major": 2,
       "version_minor": 0
      },
      "text/plain": [
       "  0%|          | 0/1875 [00:00<?, ?it/s]"
      ]
     },
     "metadata": {},
     "output_type": "display_data"
    },
    {
     "name": "stdout",
     "output_type": "stream",
     "text": [
      "Epoch: 5 Loss: 0.4615880283991496 \n"
     ]
    },
    {
     "data": {
      "application/vnd.jupyter.widget-view+json": {
       "model_id": "9862482641e2431c8fbca961a6a7ea9c",
       "version_major": 2,
       "version_minor": 0
      },
      "text/plain": [
       "Accuracy for testset:   0%|          | 0/313 [00:00<?, ?it/s]"
      ]
     },
     "metadata": {},
     "output_type": "display_data"
    },
    {
     "name": "stdout",
     "output_type": "stream",
     "text": [
      "Epoch: 5 Val accuracy: 0.8887 \n"
     ]
    },
    {
     "data": {
      "application/vnd.jupyter.widget-view+json": {
       "model_id": "5d0573c3a9f4404d8ca839050870511c",
       "version_major": 2,
       "version_minor": 0
      },
      "text/plain": [
       "  0%|          | 0/1875 [00:00<?, ?it/s]"
      ]
     },
     "metadata": {},
     "output_type": "display_data"
    },
    {
     "name": "stdout",
     "output_type": "stream",
     "text": [
      "Epoch: 6 Loss: 0.46121673736572266 \n"
     ]
    },
    {
     "data": {
      "application/vnd.jupyter.widget-view+json": {
       "model_id": "0158e3f0e2154937b2bc017faaecd8a5",
       "version_major": 2,
       "version_minor": 0
      },
      "text/plain": [
       "Accuracy for testset:   0%|          | 0/313 [00:00<?, ?it/s]"
      ]
     },
     "metadata": {},
     "output_type": "display_data"
    },
    {
     "name": "stdout",
     "output_type": "stream",
     "text": [
      "Epoch: 6 Val accuracy: 0.8883 \n"
     ]
    },
    {
     "data": {
      "application/vnd.jupyter.widget-view+json": {
       "model_id": "4d7000df116847bb9331f17d05d371c0",
       "version_major": 2,
       "version_minor": 0
      },
      "text/plain": [
       "  0%|          | 0/1875 [00:00<?, ?it/s]"
      ]
     },
     "metadata": {},
     "output_type": "display_data"
    },
    {
     "name": "stdout",
     "output_type": "stream",
     "text": [
      "Epoch: 7 Loss: 0.4609280939737956 \n"
     ]
    },
    {
     "data": {
      "application/vnd.jupyter.widget-view+json": {
       "model_id": "c7b7ed16bd244cdeb3aa170ecb9a9531",
       "version_major": 2,
       "version_minor": 0
      },
      "text/plain": [
       "Accuracy for testset:   0%|          | 0/313 [00:00<?, ?it/s]"
      ]
     },
     "metadata": {},
     "output_type": "display_data"
    },
    {
     "name": "stdout",
     "output_type": "stream",
     "text": [
      "Epoch: 7 Val accuracy: 0.89 \n"
     ]
    },
    {
     "data": {
      "application/vnd.jupyter.widget-view+json": {
       "model_id": "fef39242ba0b4ec0a30104d695197c80",
       "version_major": 2,
       "version_minor": 0
      },
      "text/plain": [
       "  0%|          | 0/1875 [00:00<?, ?it/s]"
      ]
     },
     "metadata": {},
     "output_type": "display_data"
    },
    {
     "name": "stdout",
     "output_type": "stream",
     "text": [
      "Epoch: 8 Loss: 0.46073610552152 \n"
     ]
    },
    {
     "data": {
      "application/vnd.jupyter.widget-view+json": {
       "model_id": "8692029e63f0462e8f02f3c07b869ffb",
       "version_major": 2,
       "version_minor": 0
      },
      "text/plain": [
       "Accuracy for testset:   0%|          | 0/313 [00:00<?, ?it/s]"
      ]
     },
     "metadata": {},
     "output_type": "display_data"
    },
    {
     "name": "stdout",
     "output_type": "stream",
     "text": [
      "Epoch: 8 Val accuracy: 0.8906 \n"
     ]
    },
    {
     "data": {
      "application/vnd.jupyter.widget-view+json": {
       "model_id": "ff3070210ca74d209937a682264ea288",
       "version_major": 2,
       "version_minor": 0
      },
      "text/plain": [
       "  0%|          | 0/1875 [00:00<?, ?it/s]"
      ]
     },
     "metadata": {},
     "output_type": "display_data"
    },
    {
     "name": "stdout",
     "output_type": "stream",
     "text": [
      "Epoch: 9 Loss: 0.4605316662152608 \n"
     ]
    },
    {
     "data": {
      "application/vnd.jupyter.widget-view+json": {
       "model_id": "d51bfc91ae4e40a7b015400ef6e69d12",
       "version_major": 2,
       "version_minor": 0
      },
      "text/plain": [
       "Accuracy for testset:   0%|          | 0/313 [00:00<?, ?it/s]"
      ]
     },
     "metadata": {},
     "output_type": "display_data"
    },
    {
     "name": "stdout",
     "output_type": "stream",
     "text": [
      "Epoch: 9 Val accuracy: 0.8897 \n"
     ]
    },
    {
     "data": {
      "application/vnd.jupyter.widget-view+json": {
       "model_id": "ec3b02a6f78749b1a5a2f8f03d51843b",
       "version_major": 2,
       "version_minor": 0
      },
      "text/plain": [
       "  0%|          | 0/1875 [00:00<?, ?it/s]"
      ]
     },
     "metadata": {},
     "output_type": "display_data"
    },
    {
     "name": "stdout",
     "output_type": "stream",
     "text": [
      "Epoch: 10 Loss: 0.46031084864934285 \n"
     ]
    },
    {
     "data": {
      "application/vnd.jupyter.widget-view+json": {
       "model_id": "977d7bf73fa44a818bedd992bdc2e810",
       "version_major": 2,
       "version_minor": 0
      },
      "text/plain": [
       "Accuracy for testset:   0%|          | 0/313 [00:00<?, ?it/s]"
      ]
     },
     "metadata": {},
     "output_type": "display_data"
    },
    {
     "name": "stdout",
     "output_type": "stream",
     "text": [
      "Epoch: 10 Val accuracy: 0.8868 \n"
     ]
    }
   ],
   "source": [
    "distilled_model= NetF1().to(device)\n",
    "\n",
    "optimizer = optim.Adam(distilled_model.parameters(), lr=0.001, betas=(0.9, 0.999))\n",
    "\n",
    "loss_distilled = fit_distilled(teacher_model,\n",
    "                               distilled_model,\n",
    "                               device, \n",
    "                                optimizer, \n",
    "                                train_loader,\n",
    "                                test_loader,\n",
    "                                epochs=10,\n",
    "                                T=100)"
   ]
  },
  {
   "cell_type": "markdown",
   "metadata": {},
   "source": [
    "## Why use temperature ? "
   ]
  },
  {
   "cell_type": "markdown",
   "metadata": {},
   "source": [
    "This is a strategy where we train the model to output probabilities of different classes, rather than hard decisions about which class to output. The probabilities are supplied by an earlier model(the teacher model), trained on the same task using hard class labels.\n",
    "\n",
    "* Model distillation is a technique that learns a secondary model to mimic what a primary model has learned, by training on the primary model’s “soft” probability outputs, rather than the “hard” (0/1) true label.\n",
    "* the secondary model is trained in a way that pushes it to produce a more even distribution over outputs, rather than one very confident value and many other vary small ones."
   ]
  },
  {
   "cell_type": "markdown",
   "metadata": {},
   "source": [
    "--- "
   ]
  },
  {
   "cell_type": "markdown",
   "metadata": {},
   "source": [
    "## Defense againt FGSM attack"
   ]
  },
  {
   "cell_type": "code",
   "execution_count": 199,
   "metadata": {},
   "outputs": [
    {
     "data": {
      "application/vnd.jupyter.widget-view+json": {
       "model_id": "46b9cab7986240789d6d89fc389bebd5",
       "version_major": 2,
       "version_minor": 0
      },
      "text/plain": [
       "Iteration for epsilon = 0.01:   0%|          | 0/313 [00:00<?, ?it/s]"
      ]
     },
     "metadata": {},
     "output_type": "display_data"
    },
    {
     "name": "stdout",
     "output_type": "stream",
     "text": [
      "Epsilon 0.01 Accuracy: 0.8705 \n"
     ]
    },
    {
     "data": {
      "application/vnd.jupyter.widget-view+json": {
       "model_id": "58d4651c61d8490e8da43c9b0b6ccbef",
       "version_major": 2,
       "version_minor": 0
      },
      "text/plain": [
       "Iteration for epsilon = 0.1:   0%|          | 0/313 [00:00<?, ?it/s]"
      ]
     },
     "metadata": {},
     "output_type": "display_data"
    },
    {
     "name": "stdout",
     "output_type": "stream",
     "text": [
      "Epsilon 0.1 Accuracy: 0.8214 \n"
     ]
    },
    {
     "data": {
      "application/vnd.jupyter.widget-view+json": {
       "model_id": "21f91a9e5e5546d6b207befe8234d116",
       "version_major": 2,
       "version_minor": 0
      },
      "text/plain": [
       "Iteration for epsilon = 0.5:   0%|          | 0/313 [00:00<?, ?it/s]"
      ]
     },
     "metadata": {},
     "output_type": "display_data"
    },
    {
     "name": "stdout",
     "output_type": "stream",
     "text": [
      "Epsilon 0.5 Accuracy: 0.8165 \n"
     ]
    },
    {
     "data": {
      "application/vnd.jupyter.widget-view+json": {
       "model_id": "9f148a68f00545d6abe646239b017a88",
       "version_major": 2,
       "version_minor": 0
      },
      "text/plain": [
       "Iteration for epsilon = 1:   0%|          | 0/313 [00:00<?, ?it/s]"
      ]
     },
     "metadata": {},
     "output_type": "display_data"
    },
    {
     "name": "stdout",
     "output_type": "stream",
     "text": [
      "Epsilon 1 Accuracy: 0.8153 \n"
     ]
    }
   ],
   "source": [
    "accuracies_FGSM_distilled = []\n",
    "examples_FGSM_distilled = []\n",
    "epsilons =[0.01,0.1, 0.5,1]\n",
    "proba_FGSM_distilled = []\n",
    "# Run test for each lambda\n",
    "\n",
    "\n",
    "for eps in epsilons:\n",
    "    final_acc, adv_examples, proba_adv = test_fgsm_mnist(distilled_model, \n",
    "                                                         device, \n",
    "                                                         test_loader, \n",
    "                                                         epsilon = eps,  \n",
    "                                                         T=100)\n",
    "    accuracies_FGSM_distilled.append(final_acc)\n",
    "    examples_FGSM_distilled.append(adv_examples)\n",
    "    proba_FGSM_distilled.append(proba_adv)"
   ]
  },
  {
   "cell_type": "code",
   "execution_count": 202,
   "metadata": {},
   "outputs": [
    {
     "data": {
      "image/png": "[encoded data removed]",
      "text/plain": [
       "<Figure size 1440x864 with 40 Axes>"
      ]
     },
     "metadata": {
      "needs_background": "light"
     },
     "output_type": "display_data"
    }
   ],
   "source": [
    "fig , axs = plt.subplots(nrows=len(lmds), ncols=len(examples_FGSM_distilled[0])*2,figsize=(20,12))\n",
    "\n",
    "for i , lmd in enumerate(lmds):\n",
    "    for j in range(0,len(examples_FGSM_distilled[0])):\n",
    "        original, adversary, init_pred , final_pred = examples_FGSM_distilled[i][j]\n",
    "        axs[i, 2*j].imshow(original[0],cmap='Greys')\n",
    "        axs[i,0].set_ylabel(\"lambda : {}\".format(lmd), fontsize=14)\n",
    "        axs[i, 2*j].set_title('Initial  : {}'.format(init_pred[0].item()))\n",
    "        axs[i, 2*j+1].imshow(adversary[0],cmap='Greys')\n",
    "        axs[i, 2*j+1].set_title('Adversary : {}'.format(final_pred[0].item()))\n",
    "plt.show()"
   ]
  },
  {
   "cell_type": "markdown",
   "metadata": {},
   "source": [
    "Gradient masking works when training the distilled network. "
   ]
  },
  {
   "cell_type": "code",
   "execution_count": 205,
   "metadata": {},
   "outputs": [
    {
     "data": {
      "image/png": "[encoded data removed]",
      "text/plain": [
       "<Figure size 864x576 with 1 Axes>"
      ]
     },
     "metadata": {
      "needs_background": "light"
     },
     "output_type": "display_data"
    }
   ],
   "source": [
    "fig, ax = plt.subplots(figsize=(12,8))\n",
    "\n",
    "ax.plot(epsilons, accuracies_FGSM, \"*-\",label='Teacher Model Accuracy')\n",
    "ax.plot(epsilons, accuracies_FGSM_distilled, \"*-\",label='Distilled Model Accuracy')\n",
    "plt.title(\"Defense Accuracy against Vanilla attack for different epsilon values\")\n",
    "ax.legend()\n",
    "plt.xlabel(\"epsilons\")\n",
    "plt.ylabel(\"Accuracy\")\n",
    "\n",
    "plt.savefig('Distilled model test accuracies')\n",
    "plt.show()"
   ]
  }
 ],
 "metadata": {
  "kernelspec": {
   "display_name": "pytorch",
   "language": "python",
   "name": "pytorch"
  },
  "language_info": {
   "codemirror_mode": {
    "name": "ipython",
    "version": 3
   },
   "file_extension": ".py",
   "mimetype": "text/x-python",
   "name": "python",
   "nbconvert_exporter": "python",
   "pygments_lexer": "ipython3",
   "version": "3.9.2"
  },
  "toc-autonumbering": true
 },
 "nbformat": 4,
 "nbformat_minor": 4
}
